{
 "cells": [
  {
   "cell_type": "markdown",
   "id": "735bd1a5",
   "metadata": {},
   "source": [
    "## Two Sum : Check if a pair with given sum exists in Array\n",
    "\n",
    "Problem Statement: Given an array of integers arr[] and an integer target.\n",
    "\n",
    "1st variant: Return YES if there exist two numbers such that their sum is equal to the target. Otherwise, return NO.\n",
    "\n",
    "2nd variant: Return indices of the two numbers such that their sum is equal to the target. Otherwise, we will return {-1, -1}.\n",
    "\n",
    "Note: You are not allowed to use the same element twice. Example: If the target is equal to 6 and num[1] = 3, then nums[1] + nums[1] = target is not a solution.\n",
    "\n",
    "Examples:\n",
    "\n",
    "Example 1:\n",
    "Input Format: N = 5, arr[] = {2,6,5,8,11}, target = 14\n",
    "Result: YES (for 1st variant)\n",
    "       [1, 3] (for 2nd variant)\n",
    "Explanation: arr[1] + arr[3] = 14. So, the answer is “YES” for the first variant and [1, 3] for 2nd variant.\n",
    "\n",
    "Example 2:\n",
    "Input Format: N = 5, arr[] = {2,6,5,8,11}, target = 15\n",
    "Result: NO (for 1st variant)\n",
    "\t[-1, -1] (for 2nd variant)\n",
    "Explanation: There exist no such two numbers whose sum is equal to the target.\n"
   ]
  },
  {
   "cell_type": "code",
   "execution_count": 3,
   "id": "cd5e19d4",
   "metadata": {},
   "outputs": [
    {
     "name": "stdout",
     "output_type": "stream",
     "text": [
      "[1, 3]\n"
     ]
    }
   ],
   "source": [
    "def twosum(arr, target):\n",
    "    l, r = 0, len(arr) - 1\n",
    "    widx = sorted([(v, i) for i, v in enumerate(arr)])\n",
    "    while l<r:\n",
    "        s = widx[l][0] + widx[r][0]\n",
    "        if s == target:\n",
    "            return [widx[l][1], widx[r][1]]\n",
    "        if s < target:\n",
    "            l += 1\n",
    "        else:\n",
    "            r -= 1\n",
    "    return [-1, -1]\n",
    "\n",
    "arr = [2, 6, 5, 8, 11]\n",
    "target = 14\n",
    "print(twosum(arr, target))  # Output: [1, 3]"
   ]
  },
  {
   "cell_type": "markdown",
   "id": "2cd0eb0c",
   "metadata": {},
   "source": [
    "## Sort an array of 0s, 1s and 2s\n",
    "\n",
    "Problem Statement: Given an array consisting of only 0s, 1s, and 2s. Write a program to in-place sort the array without using inbuilt sort functions. ( Expected: Single pass-O(N) and constant space)\n",
    "\n",
    "Examples\n",
    "Input: nums = [2,0,2,1,1,0]\n",
    "Output: [0,0,1,1,2,2]\n",
    "\n",
    "Input: nums = [2,0,1]\n",
    "Output: [0,1,2]\n",
    "\n",
    "Input: nums = [0]\n",
    "Output: [0]"
   ]
  },
  {
   "cell_type": "code",
   "execution_count": 4,
   "id": "3786963b",
   "metadata": {},
   "outputs": [
    {
     "name": "stdout",
     "output_type": "stream",
     "text": [
      "[0, 0, 1, 1, 2, 2]\n",
      "[0, 1, 2]\n",
      "[0]\n"
     ]
    }
   ],
   "source": [
    "def sort_colors(nums):\n",
    "    lo, mid, hi = 0, 0, len(nums)-1\n",
    "    while mid<=hi:\n",
    "        if nums[mid] == 0:\n",
    "            nums[lo], nums[mid] = nums[mid], nums[lo]\n",
    "            lo += 1\n",
    "            mid +=1\n",
    "        elif nums[mid] == 1:\n",
    "            mid +=1\n",
    "        else:\n",
    "            nums[mid], nums[hi] = nums[hi] ,nums[mid]\n",
    "            hi -=1\n",
    "    return nums\n",
    "\n",
    "# quick checks\n",
    "print(sort_colors([2,0,2,1,1,0]))  # [0,0,1,1,2,2]\n",
    "print(sort_colors([2,0,1]))        # [0,1,2]\n",
    "print(sort_colors([0]))    "
   ]
  },
  {
   "cell_type": "markdown",
   "id": "ea92ff36",
   "metadata": {},
   "source": [
    "## Find the Majority Element that occurs more than N/2 times\n",
    "\n",
    "Problem Statement: Given an array of N integers, write a program to return an element that occurs more than N/2 times in the given array. You may consider that such an element always exists in the array.\n",
    "\n",
    "Examples\n",
    "\n",
    "Example 1:\n",
    "Input Format: N = 3, nums[] = {3,2,3}\n",
    "Result: 3\n",
    "Explanation: When we just count the occurrences of each number and compare with half of the size of the array, you will get 3 for the above solution. \n",
    "\n",
    "Example 2:\n",
    "Input Format:  N = 7, nums[] = {2,2,1,1,1,2,2}\n",
    "\n",
    "Result: 2\n",
    "\n",
    "Explanation: After counting the number of times each element appears and comparing it with half of array size, we get 2 as result.\n",
    "\n",
    "Example 3:\n",
    "Input Format:  N = 10, nums[] = {4,4,2,4,3,4,4,3,2,4}\n",
    "\n",
    "Result: 4\n"
   ]
  },
  {
   "cell_type": "code",
   "execution_count": 8,
   "id": "2b6cd888",
   "metadata": {},
   "outputs": [
    {
     "name": "stdout",
     "output_type": "stream",
     "text": [
      "3\n",
      "2\n",
      "4\n",
      "\n",
      "3\n",
      "2\n",
      "4\n"
     ]
    }
   ],
   "source": [
    "from collections import Counter\n",
    "def majority(arr, n):\n",
    "    c = Counter(arr)\n",
    "    for k, v in c.items():\n",
    "        if v > n // 2:\n",
    "            return k\n",
    "    return -1\n",
    "\n",
    "print(majority([3,2,3], 3))\n",
    "print(majority([2,2,2,1,1,1,2,2], 7))\n",
    "print(majority([4,4,2,4,3,4,4,3,2,4], 10))\n",
    "\n",
    "print()\n",
    "# Solution 2:\n",
    "\n",
    "def majority(arr, n):\n",
    "    cand = None\n",
    "    c = 0\n",
    "    for x in arr:\n",
    "        if c == 0:\n",
    "            cand = x\n",
    "            c = 1\n",
    "        elif x == cand:\n",
    "            c +=1\n",
    "        else:\n",
    "            c-=1\n",
    "    return cand\n",
    "\n",
    "print(majority([3,2,3], 3))\n",
    "print(majority([2,2,2,1,1,1,2,2], 7))\n",
    "print(majority([4,4,2,4,3,4,4,3,2], 10))"
   ]
  },
  {
   "cell_type": "markdown",
   "id": "f832052d",
   "metadata": {},
   "source": [
    "## Kadane's Algorithm : Maximum Subarray Sum in an Array\n",
    "\n",
    "Problem Statement: Given an integer array arr, find the contiguous subarray (containing at least one number) which\n",
    "has the largest sum and returns its sum and prints the subarray.\n",
    "\n",
    "Examples\n",
    "Example 1:\n",
    "\n",
    "Input: arr = [-2,1,-3,4,-1,2,1,-5,4] \n",
    "\n",
    "Output: 6 \n",
    "\n",
    "Explanation: [4,-1,2,1] has the largest sum = 6. \n",
    "\n",
    "Examples 2: \n",
    "\n",
    "Input: arr = [1] \n",
    "\n",
    "Output: 1 \n",
    "\n",
    "Explanation: Array has only one element and which is giving positive sum of 1. "
   ]
  },
  {
   "cell_type": "code",
   "execution_count": null,
   "id": "c4a2e074",
   "metadata": {},
   "outputs": [
    {
     "name": "stdout",
     "output_type": "stream",
     "text": [
      "6\n",
      "4\n",
      "1\n"
     ]
    }
   ],
   "source": [
    "def max_subarray(arr):\n",
    "    l = 0\n",
    "    s = 0\n",
    "    maxsum = 0\n",
    "    for r, i in enumerate(arr):\n",
    "        s += i\n",
    "        if s < maxsum:\n",
    "            s -= arr[l]\n",
    "            l += 1\n",
    "        else:\n",
    "            maxsum = s\n",
    "    return maxsum\n",
    "print(max_subarray([-2,1,-3,4,-1,2,1,-5,4]))\n",
    "print(max_subarray([4,-1,2,1]))\n",
    "print(max_subarray([1]))"
   ]
  },
  {
   "cell_type": "code",
   "execution_count": null,
   "id": "9eae164a",
   "metadata": {},
   "outputs": [],
   "source": []
  }
 ],
 "metadata": {
  "kernelspec": {
   "display_name": "Python 3",
   "language": "python",
   "name": "python3"
  },
  "language_info": {
   "codemirror_mode": {
    "name": "ipython",
    "version": 3
   },
   "file_extension": ".py",
   "mimetype": "text/x-python",
   "name": "python",
   "nbconvert_exporter": "python",
   "pygments_lexer": "ipython3",
   "version": "3.11.12"
  }
 },
 "nbformat": 4,
 "nbformat_minor": 5
}
