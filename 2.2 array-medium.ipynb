{
 "cells": [
  {
   "cell_type": "markdown",
   "id": "735bd1a5",
   "metadata": {},
   "source": [
    "## Two Sum : Check if a pair with given sum exists in Array\n",
    "\n",
    "Problem Statement: Given an array of integers arr[] and an integer target.\n",
    "\n",
    "1st variant: Return YES if there exist two numbers such that their sum is equal to the target. Otherwise, return NO.\n",
    "\n",
    "2nd variant: Return indices of the two numbers such that their sum is equal to the target. Otherwise, we will return {-1, -1}.\n",
    "\n",
    "Note: You are not allowed to use the same element twice. Example: If the target is equal to 6 and num[1] = 3, then nums[1] + nums[1] = target is not a solution.\n",
    "\n",
    "Examples:\n",
    "\n",
    "Example 1:\n",
    "Input Format: N = 5, arr[] = {2,6,5,8,11}, target = 14\n",
    "Result: YES (for 1st variant)\n",
    "       [1, 3] (for 2nd variant)\n",
    "Explanation: arr[1] + arr[3] = 14. So, the answer is “YES” for the first variant and [1, 3] for 2nd variant.\n",
    "\n",
    "Example 2:\n",
    "Input Format: N = 5, arr[] = {2,6,5,8,11}, target = 15\n",
    "Result: NO (for 1st variant)\n",
    "\t[-1, -1] (for 2nd variant)\n",
    "Explanation: There exist no such two numbers whose sum is equal to the target.\n"
   ]
  },
  {
   "cell_type": "code",
   "execution_count": null,
   "id": "cd5e19d4",
   "metadata": {},
   "outputs": [],
   "source": []
  }
 ],
 "metadata": {
  "kernelspec": {
   "display_name": "Python 3",
   "language": "python",
   "name": "python3"
  },
  "language_info": {
   "name": "python",
   "version": "3.11.12"
  }
 },
 "nbformat": 4,
 "nbformat_minor": 5
}
