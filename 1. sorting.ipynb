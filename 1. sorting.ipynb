{
 "cells": [
  {
   "cell_type": "markdown",
   "id": "413d9210",
   "metadata": {},
   "source": [
    "### SELECTION SORT"
   ]
  },
  {
   "cell_type": "code",
   "execution_count": 9,
   "id": "c6f5acf0",
   "metadata": {},
   "outputs": [
    {
     "name": "stdout",
     "output_type": "stream",
     "text": [
      "[1, 2, 3, 4, 5, 6]\n"
     ]
    }
   ],
   "source": [
    "def selection_sort(arr):\n",
    "    n = len(arr)\n",
    "    for i in range (n-1):\n",
    "        mini = i\n",
    "        for j in range (i+1, n):\n",
    "            if arr[j]<arr[mini]:\n",
    "                mini = j\n",
    "        if mini != i:\n",
    "            arr[i], arr[mini] = arr[mini], arr[i]\n",
    "    return arr\n",
    "\n",
    "data = [5, 2, 4, 6, 1, 3]\n",
    "print(selection_sort(data))"
   ]
  },
  {
   "cell_type": "markdown",
   "id": "b5579273",
   "metadata": {},
   "source": [
    "### BUBBLE SORT"
   ]
  },
  {
   "cell_type": "code",
   "execution_count": 11,
   "id": "5c390fd9",
   "metadata": {},
   "outputs": [
    {
     "name": "stdout",
     "output_type": "stream",
     "text": [
      "[1, 2, 3, 4, 5, 6]\n"
     ]
    }
   ],
   "source": [
    "def bubble_sort(arr):\n",
    "    n =len(arr)\n",
    "    for i in range(n-1):\n",
    "        swapped = False\n",
    "        for j in range(n-i-1):\n",
    "            if arr[j]>arr[j+1]:\n",
    "                arr[j], arr[j+1] = arr[j+1], arr[j]\n",
    "                swapped = True\n",
    "        if not swapped:\n",
    "                break\n",
    "    return arr\n",
    "\n",
    "data = [5, 2, 4, 6, 1, 3]\n",
    "print(selection_sort(data))"
   ]
  },
  {
   "cell_type": "markdown",
   "id": "76c6a0c7",
   "metadata": {},
   "source": [
    "### INSERTION SORT"
   ]
  },
  {
   "cell_type": "code",
   "execution_count": 12,
   "id": "2e568180",
   "metadata": {},
   "outputs": [
    {
     "name": "stdout",
     "output_type": "stream",
     "text": [
      "[1, 2, 3, 4, 5, 6]\n"
     ]
    }
   ],
   "source": [
    "def insertion_sort(arr):\n",
    "    n =len(arr)\n",
    "    for i in range(1, n):\n",
    "        j = i-1\n",
    "        key = arr[i]\n",
    "        while j>=0 and arr[j]>key:\n",
    "            arr[j+1] = arr[j]\n",
    "            j -= 1\n",
    "        arr[j+1] = key\n",
    "    return arr\n",
    "data = [5, 2, 4, 6, 1, 3]\n",
    "print(insertion_sort(data))"
   ]
  },
  {
   "cell_type": "markdown",
   "id": "cca33695",
   "metadata": {},
   "source": [
    "### MERGE SORT"
   ]
  },
  {
   "cell_type": "code",
   "execution_count": 4,
   "id": "11c3530f",
   "metadata": {},
   "outputs": [
    {
     "name": "stdout",
     "output_type": "stream",
     "text": [
      "[1, 2, 3, 4, 5, 6]\n"
     ]
    }
   ],
   "source": [
    "def merge_sort(arr):\n",
    "\n",
    "    n = len(arr)\n",
    "    tmp = [0] * n\n",
    "\n",
    "    def sort(lo, hi):\n",
    "        if hi-lo<=1:\n",
    "            return\n",
    "        mid = (lo+hi)//2\n",
    "        sort(lo, mid)\n",
    "        sort(mid, hi)\n",
    "        merge(lo,mid,hi)\n",
    "\n",
    "    def merge(lo, mid, hi):\n",
    "        i, j, k = lo, mid, lo\n",
    "        a, t = arr,  tmp\n",
    "        while i<mid and j<hi:\n",
    "            if a[i]<=a[j]:\n",
    "                t[k]=a[i]\n",
    "                i+=1\n",
    "            else:\n",
    "                t[k]=a[j]\n",
    "                j+=1\n",
    "            k+=1\n",
    "        while i<mid:\n",
    "            t[k]=a[i]\n",
    "            k+=1\n",
    "            i+=1\n",
    "        while j<hi:\n",
    "            t[k]=a[j]\n",
    "            k+=1\n",
    "            j+=1\n",
    "        arr[lo:hi]=t[lo:hi]\n",
    "\n",
    "    sort(0, n)\n",
    "    return arr\n",
    "\n",
    "data = [5, 2, 4, 6, 1, 3]\n",
    "print(merge_sort(data))"
   ]
  },
  {
   "cell_type": "markdown",
   "id": "ad9db797",
   "metadata": {},
   "source": [
    "### RECURSIVE BUBBLE SORT"
   ]
  },
  {
   "cell_type": "code",
   "execution_count": 17,
   "id": "40cb1d1d",
   "metadata": {},
   "outputs": [
    {
     "name": "stdout",
     "output_type": "stream",
     "text": [
      "[1, 2, 3, 4, 5, 6]\n"
     ]
    }
   ],
   "source": [
    "def recc_bubble_sort(arr, n):\n",
    "\n",
    "    if n<= 1:\n",
    "        return\n",
    "\n",
    "    swapped = False\n",
    "\n",
    "    for j in range (n-1):\n",
    "        if arr[j]>arr[j+1]:\n",
    "            arr[j], arr[j+1] = arr[j+1], arr[j]\n",
    "            swapped = True\n",
    "        \n",
    "    if not swapped:\n",
    "        return\n",
    "\n",
    "    recc_bubble_sort(arr, n-1)\n",
    "\n",
    "data = [5, 2, 4, 6, 1, 3]\n",
    "recc_bubble_sort(data, len(data))\n",
    "print (data)\n"
   ]
  },
  {
   "cell_type": "code",
   "execution_count": 18,
   "id": "6eb9837f",
   "metadata": {},
   "outputs": [
    {
     "name": "stdout",
     "output_type": "stream",
     "text": [
      "[1, 2, 3, 4, 5, 6]\n"
     ]
    }
   ],
   "source": [
    "def recc_insertion_sort(arr, i, n):\n",
    "    \n",
    "    if i==n:\n",
    "        return\n",
    "    \n",
    "    j = i\n",
    "\n",
    "    while j > 0 and arr[j-1]>arr[j]:\n",
    "        arr[j-1], arr[j] = arr[j], arr[j-1]\n",
    "        j-=1\n",
    "    \n",
    "    recc_insertion_sort(arr, i+1, n)\n",
    "\n",
    "data = [5, 2, 4, 6, 1, 3]\n",
    "recc_insertion_sort(data, 0, len(data))\n",
    "print (data)"
   ]
  },
  {
   "cell_type": "markdown",
   "id": "0937c50d",
   "metadata": {},
   "source": [
    "### QUICKSORT"
   ]
  },
  {
   "cell_type": "code",
   "execution_count": 25,
   "id": "b358aa96",
   "metadata": {},
   "outputs": [
    {
     "name": "stdout",
     "output_type": "stream",
     "text": [
      "[1, 3, 3, 3, 5, 5, 5, 7, 9]\n"
     ]
    }
   ],
   "source": [
    "import random\n",
    "\n",
    "def quicksort_3way(a, lo=0, hi=None):\n",
    "\n",
    "    if hi is None:\n",
    "        hi = len(a) - 1\n",
    "    \n",
    "    while lo<hi:\n",
    "        p = random.randint(lo, hi)\n",
    "        a[lo], a[p] = a[p], a[lo]\n",
    "        pivot = a[lo]\n",
    "\n",
    "        lt, i, gt = lo, lo+1, hi\n",
    "\n",
    "        while i<=gt:\n",
    "            if a[i]<pivot:\n",
    "                a[lt], a[i] = a[i], a[lt]\n",
    "                lt += 1\n",
    "                i += 1\n",
    "            elif a[i]>pivot:\n",
    "                a[gt], a[i] = a[i], a[gt]\n",
    "                gt -= 1\n",
    "            else:\n",
    "                i +=1\n",
    "            \n",
    "        if (lt-1) - lo < hi - (gt+1):\n",
    "            quicksort_3way(a, lo, lt-1)\n",
    "            lo = gt + 1\n",
    "        else:\n",
    "            quicksort_3way(a, gt+1, hi)\n",
    "            hi = lt - 1\n",
    "    \n",
    "    return a\n",
    "\n",
    "arr2 = [5, 3, 3, 9, 1, 3, 7, 5, 5]\n",
    "print(quicksort_3way(arr2))"
   ]
  },
  {
   "cell_type": "code",
   "execution_count": null,
   "id": "fd1fa69b",
   "metadata": {},
   "outputs": [],
   "source": []
  }
 ],
 "metadata": {
  "kernelspec": {
   "display_name": "Python 3",
   "language": "python",
   "name": "python3"
  },
  "language_info": {
   "codemirror_mode": {
    "name": "ipython",
    "version": 3
   },
   "file_extension": ".py",
   "mimetype": "text/x-python",
   "name": "python",
   "nbconvert_exporter": "python",
   "pygments_lexer": "ipython3",
   "version": "3.11.12"
  }
 },
 "nbformat": 4,
 "nbformat_minor": 5
}
