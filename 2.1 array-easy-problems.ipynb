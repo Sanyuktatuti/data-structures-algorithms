{
 "cells": [
  {
   "cell_type": "markdown",
   "id": "522ecfa8",
   "metadata": {},
   "source": [
    "## Find the Largest element in an array\n",
    "\n",
    "## Problem Statement: Given an array, we have to find the largest element in the array.\n",
    "\n",
    "### Example 1:\n",
    "Input: arr[] = {2,5,1,3,0};\n",
    "Output: 5\n",
    "Explanation: 5 is the largest element in the array. \n",
    "\n",
    "### Example2: \n",
    "Input: arr[] = {8,10,5,7,9};\n",
    "Output: 10\n",
    "Explanation: 10 is the largest element in the array. "
   ]
  },
  {
   "cell_type": "code",
   "execution_count": null,
   "id": "c87e6ade",
   "metadata": {},
   "outputs": [
    {
     "name": "stdout",
     "output_type": "stream",
     "text": [
      "9\n"
     ]
    }
   ],
   "source": [
    "# brute force:\n",
    "\n",
    "def find_max(arr):\n",
    "    maxn = 0\n",
    "    for i in range (len(arr)):\n",
    "        maxn = arr[i] if arr[i]>maxn else maxn\n",
    "    return maxn\n",
    "\n",
    "arr1 = [5, 3, 3, 9, 1, 3, 7, 5, 5]\n",
    "print(find_max(arr1))"
   ]
  },
  {
   "cell_type": "markdown",
   "id": "73426fb2",
   "metadata": {},
   "source": [
    "## Find Second Smallest and Second Largest Element in an array\n",
    "\n",
    "## Problem Statement: Given an array, find the second smallest and second largest element in the array. Print ‘-1’ in the event that either of them doesn’t exist.\n",
    "\n",
    "Example 1:\n",
    "Input: [1,2,4,7,7,5]\n",
    "Output: Second Smallest : 2\n",
    "\tSecond Largest : 5\n",
    "Explanation: The elements are as follows 1,2,3,5,7,7 and hence second largest of these is 5 and second smallest is 2\n",
    "\n",
    "Example 2:\n",
    "Input: [1]\n",
    "Output: Second Smallest : -1\n",
    "\tSecond Largest : -1\n",
    "Explanation: Since there is only one element in the array, it is the largest and smallest element present in the array. There is no second largest or second smallest element present.\n"
   ]
  },
  {
   "cell_type": "code",
   "execution_count": 10,
   "id": "b698549d",
   "metadata": {},
   "outputs": [
    {
     "name": "stdout",
     "output_type": "stream",
     "text": [
      "max2 7\n",
      "min2 3\n"
     ]
    }
   ],
   "source": [
    "def second(arr1):\n",
    "    if not arr1:\n",
    "        return -1, -1\n",
    "    \n",
    "    INF = float('inf')\n",
    "    NINF = float('-inf')\n",
    "    \n",
    "    max1, max2 = NINF, NINF\n",
    "    min1, min2 = INF, INF\n",
    "\n",
    "    for x in arr1:\n",
    "        if x<min1:\n",
    "            min2, min1 = min1, x\n",
    "        elif min1 < x < min2:\n",
    "            min2 = x\n",
    "        \n",
    "        if x>max1:\n",
    "            max2, max1 = max1, x\n",
    "        elif max1 > x > max2:\n",
    "            max2 = x\n",
    "    \n",
    "    sec_small = -1 if min2 == INF else min2\n",
    "    sec_lar = -1 if max2 == NINF else max2\n",
    "    return sec_lar, sec_small\n",
    "arr1 = [5, 3, 3, 9, 1, 3, 7, 5, 5]\n",
    "max2, min2 = second(arr1)\n",
    "print(\"max2\", max2)\n",
    "print(\"min2\", min2)"
   ]
  },
  {
   "cell_type": "markdown",
   "id": "334a0faa",
   "metadata": {},
   "source": [
    "## Check if an Array is Sorted\n",
    "\n",
    "## Problem Statement: Given an array of size n, write a program to check if the given array is sorted in (ascending / Increasing / Non-decreasing) order or not. If the array is sorted then return True, Else return False.\n",
    "\n",
    "Note: Two consecutive equal values are considered to be sorted.\n",
    "\n",
    "Examples\n",
    "\n",
    "Example 1:\n",
    "Input: N = 5, array[] = {1,2,3,4,5}\n",
    "Output: True.\n",
    "Explanation: The given array is sorted i.e Every element in the array is smaller than or equals to its next values, So the answer is True.\n",
    "\n",
    "\n",
    "Example 2:\n",
    "Input: N = 5, array[] = {5,4,6,7,8}\n",
    "Output: False.\n",
    "Explanation: The given array is Not sorted i.e Every element in the array is not smaller than or equal to its next values, So the answer is False.\n",
    "\n",
    "Here element 5 is not smaller than or equal to its future elements."
   ]
  },
  {
   "cell_type": "code",
   "execution_count": 20,
   "id": "e4a0674b",
   "metadata": {},
   "outputs": [
    {
     "name": "stdout",
     "output_type": "stream",
     "text": [
      "[5, 3, 3, 9, 1, 3, 7, 5, 5] False\n",
      "[1, 2, 3, 4, 5, 6] True\n",
      "[6, 5, 4, 3, 2, 1] False\n",
      "\n",
      "[5, 3, 3, 9, 1, 3, 7, 5, 5] False\n",
      "[1, 2, 3, 4, 5, 6] True\n",
      "[6, 5, 4, 3, 2, 1] True "
     ]
    }
   ],
   "source": [
    "# strictly ascending\n",
    "\n",
    "def if_sorted(arr):\n",
    "\n",
    "    sorted = True\n",
    "\n",
    "    for i in range (1, len(arr)):\n",
    "        if arr[i-1]>arr[i]:\n",
    "            return False\n",
    "        return True\n",
    "\n",
    "arr1 = [5, 3, 3, 9, 1, 3, 7, 5, 5]\n",
    "arr2 = [1, 2, 3, 4, 5, 6]\n",
    "arr3 = [6, 5, 4, 3, 2, 1]\n",
    "\n",
    "print(arr1, end=\" \")\n",
    "print(if_sorted(arr1))\n",
    "print(arr2, end=\" \")\n",
    "print(if_sorted(arr2))\n",
    "print(arr3, end=\" \")\n",
    "print(if_sorted(arr3))\n",
    "print()\n",
    "\n",
    "# strictly descending or ascending\n",
    "\n",
    "def inc_or_dec(arr):\n",
    "\n",
    "    inc = True\n",
    "    dec = True\n",
    "\n",
    "    for i in range(1,len(arr)):\n",
    "        if arr[i-1]>arr[i]:\n",
    "            inc = False\n",
    "        if arr[i-1]<arr[i]:\n",
    "            dec = False\n",
    "        if not inc and not dec:\n",
    "            return False\n",
    "    return True\n",
    "\n",
    "arr1 = [5, 3, 3, 9, 1, 3, 7, 5, 5]\n",
    "arr2 = [1, 2, 3, 4, 5, 6]\n",
    "arr3 = [6, 5, 4, 3, 2, 1]\n",
    "\n",
    "print(arr1, end=\" \")\n",
    "print(inc_or_dec(arr1))\n",
    "print(arr2, end=\" \")\n",
    "print(inc_or_dec(arr2))\n",
    "print(arr3, end=\" \")\n",
    "print(inc_or_dec(arr3), end=\" \")\n"
   ]
  },
  {
   "cell_type": "markdown",
   "id": "0514d086",
   "metadata": {},
   "source": [
    "## Remove Duplicates in-place from Sorted Array\n",
    "\n",
    "### Problem Statement: Given an integer array sorted in non-decreasing order, remove the duplicates in place such that each unique element appears only once. The relative order of the elements should be kept the same.\n",
    "\n",
    "If there are k elements after removing the duplicates, then the first k elements of the array should hold the final result. It does not matter what you leave beyond the first k elements.\n",
    "\n",
    "Note: Return k after placing the final result in the first k slots of the array.\n",
    "\n",
    "Example 1: \n",
    "\n",
    "Input: arr[1,1,2,2,2,3,3]\n",
    "\n",
    "Output: arr[1,2,3,_,_,_,_]\n",
    "\n",
    "Explanation: Total number of unique elements are 3, i.e[1,2,3] and Therefore return 3 after assigning [1,2,3] in the beginning of the array.\n",
    "\n",
    "Example 2: \n",
    "\n",
    "Input: arr[1,1,1,2,2,3,3,3,3,4,4]\n",
    "\n",
    "Output: arr[1,2,3,4,_,_,_,_,_,_,_]\n",
    "\n",
    "Explanation: Total number of unique elements are 4, i.e[1,2,3,4] and Therefore return 4 after assigning [1,2,3,4] in the beginning of the array.\n"
   ]
  },
  {
   "cell_type": "code",
   "execution_count": null,
   "id": "257b8bdc",
   "metadata": {},
   "outputs": [
    {
     "name": "stdout",
     "output_type": "stream",
     "text": [
      "[1, 1, 2, 2, 2, 3, 3] Counter({2: 3, 1: 2, 3: 2})\n",
      "[(1, 2), (2, 3), (3, 2)]\n"
     ]
    }
   ],
   "source": [
    "from collections import Counter\n",
    "\n",
    "def rem(arr):\n",
    "    pass\n",
    "\n",
    "arr1 = [1,1,2,2,2,3,3]\n",
    "arr2 = [1,1,1,2,2,3,3,3,3,4,4]\n",
    "print(arr1, end=\" \")\n",
    "print(rem(arr1))"
   ]
  },
  {
   "cell_type": "code",
   "execution_count": null,
   "id": "fc2c4a56",
   "metadata": {},
   "outputs": [],
   "source": []
  }
 ],
 "metadata": {
  "kernelspec": {
   "display_name": "Python 3",
   "language": "python",
   "name": "python3"
  },
  "language_info": {
   "codemirror_mode": {
    "name": "ipython",
    "version": 3
   },
   "file_extension": ".py",
   "mimetype": "text/x-python",
   "name": "python",
   "nbconvert_exporter": "python",
   "pygments_lexer": "ipython3",
   "version": "3.11.12"
  }
 },
 "nbformat": 4,
 "nbformat_minor": 5
}
