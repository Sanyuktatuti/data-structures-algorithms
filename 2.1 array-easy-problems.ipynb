{
 "cells": [
  {
   "cell_type": "markdown",
   "id": "522ecfa8",
   "metadata": {},
   "source": [
    "## Find the Largest element in an array\n",
    "\n",
    "## Problem Statement: Given an array, we have to find the largest element in the array.\n",
    "\n",
    "### Example 1:\n",
    "Input: arr[] = {2,5,1,3,0};\n",
    "Output: 5\n",
    "Explanation: 5 is the largest element in the array. \n",
    "\n",
    "### Example2: \n",
    "Input: arr[] = {8,10,5,7,9};\n",
    "Output: 10\n",
    "Explanation: 10 is the largest element in the array. "
   ]
  },
  {
   "cell_type": "code",
   "execution_count": null,
   "id": "c87e6ade",
   "metadata": {},
   "outputs": [
    {
     "name": "stdout",
     "output_type": "stream",
     "text": [
      "9\n"
     ]
    }
   ],
   "source": [
    "# brute force:\n",
    "\n",
    "def find_max(arr):\n",
    "    maxn = 0\n",
    "    for i in range (len(arr)):\n",
    "        maxn = arr[i] if arr[i]>maxn else maxn\n",
    "    return maxn\n",
    "\n",
    "arr1 = [5, 3, 3, 9, 1, 3, 7, 5, 5]\n",
    "print(find_max(arr1))"
   ]
  },
  {
   "cell_type": "markdown",
   "id": "73426fb2",
   "metadata": {},
   "source": [
    "## Find Second Smallest and Second Largest Element in an array\n",
    "\n",
    "## Problem Statement: Given an array, find the second smallest and second largest element in the array. Print ‘-1’ in the event that either of them doesn’t exist.\n",
    "\n",
    "Example 1:\n",
    "Input: [1,2,4,7,7,5]\n",
    "Output: Second Smallest : 2\n",
    "\tSecond Largest : 5\n",
    "Explanation: The elements are as follows 1,2,3,5,7,7 and hence second largest of these is 5 and second smallest is 2\n",
    "\n",
    "Example 2:\n",
    "Input: [1]\n",
    "Output: Second Smallest : -1\n",
    "\tSecond Largest : -1\n",
    "Explanation: Since there is only one element in the array, it is the largest and smallest element present in the array. There is no second largest or second smallest element present.\n"
   ]
  },
  {
   "cell_type": "code",
   "execution_count": 10,
   "id": "b698549d",
   "metadata": {},
   "outputs": [
    {
     "name": "stdout",
     "output_type": "stream",
     "text": [
      "max2 7\n",
      "min2 3\n"
     ]
    }
   ],
   "source": [
    "def second(arr1):\n",
    "    if not arr1:\n",
    "        return -1, -1\n",
    "    \n",
    "    INF = float('inf')\n",
    "    NINF = float('-inf')\n",
    "    \n",
    "    max1, max2 = NINF, NINF\n",
    "    min1, min2 = INF, INF\n",
    "\n",
    "    for x in arr1:\n",
    "        if x<min1:\n",
    "            min2, min1 = min1, x\n",
    "        elif min1 < x < min2:\n",
    "            min2 = x\n",
    "        \n",
    "        if x>max1:\n",
    "            max2, max1 = max1, x\n",
    "        elif max1 > x > max2:\n",
    "            max2 = x\n",
    "    \n",
    "    sec_small = -1 if min2 == INF else min2\n",
    "    sec_lar = -1 if max2 == NINF else max2\n",
    "    return sec_lar, sec_small\n",
    "arr1 = [5, 3, 3, 9, 1, 3, 7, 5, 5]\n",
    "max2, min2 = second(arr1)\n",
    "print(\"max2\", max2)\n",
    "print(\"min2\", min2)"
   ]
  },
  {
   "cell_type": "markdown",
   "id": "334a0faa",
   "metadata": {},
   "source": [
    "## Check if an Array is Sorted\n",
    "\n",
    "## Problem Statement: Given an array of size n, write a program to check if the given array is sorted in (ascending / Increasing / Non-decreasing) order or not. If the array is sorted then return True, Else return False.\n",
    "\n",
    "Note: Two consecutive equal values are considered to be sorted.\n",
    "\n",
    "Examples\n",
    "\n",
    "Example 1:\n",
    "Input: N = 5, array[] = {1,2,3,4,5}\n",
    "Output: True.\n",
    "Explanation: The given array is sorted i.e Every element in the array is smaller than or equals to its next values, So the answer is True.\n",
    "\n",
    "\n",
    "Example 2:\n",
    "Input: N = 5, array[] = {5,4,6,7,8}\n",
    "Output: False.\n",
    "Explanation: The given array is Not sorted i.e Every element in the array is not smaller than or equal to its next values, So the answer is False.\n",
    "\n",
    "Here element 5 is not smaller than or equal to its future elements."
   ]
  },
  {
   "cell_type": "code",
   "execution_count": 20,
   "id": "e4a0674b",
   "metadata": {},
   "outputs": [
    {
     "name": "stdout",
     "output_type": "stream",
     "text": [
      "[5, 3, 3, 9, 1, 3, 7, 5, 5] False\n",
      "[1, 2, 3, 4, 5, 6] True\n",
      "[6, 5, 4, 3, 2, 1] False\n",
      "\n",
      "[5, 3, 3, 9, 1, 3, 7, 5, 5] False\n",
      "[1, 2, 3, 4, 5, 6] True\n",
      "[6, 5, 4, 3, 2, 1] True "
     ]
    }
   ],
   "source": [
    "# strictly ascending\n",
    "\n",
    "def if_sorted(arr):\n",
    "\n",
    "    sorted = True\n",
    "\n",
    "    for i in range (1, len(arr)):\n",
    "        if arr[i-1]>arr[i]:\n",
    "            return False\n",
    "        return True\n",
    "\n",
    "arr1 = [5, 3, 3, 9, 1, 3, 7, 5, 5]\n",
    "arr2 = [1, 2, 3, 4, 5, 6]\n",
    "arr3 = [6, 5, 4, 3, 2, 1]\n",
    "\n",
    "print(arr1, end=\" \")\n",
    "print(if_sorted(arr1))\n",
    "print(arr2, end=\" \")\n",
    "print(if_sorted(arr2))\n",
    "print(arr3, end=\" \")\n",
    "print(if_sorted(arr3))\n",
    "print()\n",
    "\n",
    "# strictly descending or ascending\n",
    "\n",
    "def inc_or_dec(arr):\n",
    "\n",
    "    inc = True\n",
    "    dec = True\n",
    "\n",
    "    for i in range(1,len(arr)):\n",
    "        if arr[i-1]>arr[i]:\n",
    "            inc = False\n",
    "        if arr[i-1]<arr[i]:\n",
    "            dec = False\n",
    "        if not inc and not dec:\n",
    "            return False\n",
    "    return True\n",
    "\n",
    "arr1 = [5, 3, 3, 9, 1, 3, 7, 5, 5]\n",
    "arr2 = [1, 2, 3, 4, 5, 6]\n",
    "arr3 = [6, 5, 4, 3, 2, 1]\n",
    "\n",
    "print(arr1, end=\" \")\n",
    "print(inc_or_dec(arr1))\n",
    "print(arr2, end=\" \")\n",
    "print(inc_or_dec(arr2))\n",
    "print(arr3, end=\" \")\n",
    "print(inc_or_dec(arr3), end=\" \")\n"
   ]
  },
  {
   "cell_type": "markdown",
   "id": "0514d086",
   "metadata": {},
   "source": [
    "## Remove Duplicates in-place from Sorted Array\n",
    "\n",
    "### Problem Statement: Given an integer array sorted in non-decreasing order, remove the duplicates in place such that each unique element appears only once. The relative order of the elements should be kept the same.\n",
    "\n",
    "If there are k elements after removing the duplicates, then the first k elements of the array should hold the final result. It does not matter what you leave beyond the first k elements.\n",
    "\n",
    "Note: Return k after placing the final result in the first k slots of the array.\n",
    "\n",
    "Example 1: \n",
    "\n",
    "Input: arr[1,1,2,2,2,3,3]\n",
    "\n",
    "Output: arr[1,2,3,_,_,_,_]\n",
    "\n",
    "Explanation: Total number of unique elements are 3, i.e[1,2,3] and Therefore return 3 after assigning [1,2,3] in the beginning of the array.\n",
    "\n",
    "Example 2: \n",
    "\n",
    "Input: arr[1,1,1,2,2,3,3,3,3,4,4]\n",
    "\n",
    "Output: arr[1,2,3,4,_,_,_,_,_,_,_]\n",
    "\n",
    "Explanation: Total number of unique elements are 4, i.e[1,2,3,4] and Therefore return 4 after assigning [1,2,3,4] in the beginning of the array.\n"
   ]
  },
  {
   "cell_type": "code",
   "execution_count": 10,
   "id": "257b8bdc",
   "metadata": {},
   "outputs": [
    {
     "name": "stdout",
     "output_type": "stream",
     "text": [
      "[1, 1, 2, 2, 2, 3, 3] [1, 2, 3]\n",
      "[1, 1, 1, 2, 2, 3, 3, 3, 3, 4, 4] [1, 2, 3, 4]\n",
      "[1, 1, 2, 2, 2, 3, 3] [1, 2, 3]\n",
      "[1, 1, 1, 2, 2, 3, 3, 3, 3, 4, 4] [1, 2, 3, 4]\n"
     ]
    }
   ],
   "source": [
    "from collections import Counter\n",
    "\n",
    "def rem(arr):\n",
    "    c = Counter(arr)\n",
    "    res = [keys for keys, values in c.items()]\n",
    "    return res\n",
    "arr1 = [1,1,2,2,2,3,3]\n",
    "arr2 = [1,1,1,2,2,3,3,3,3,4,4]\n",
    "print(arr1, end=\" \")\n",
    "print(rem(arr1))\n",
    "print(arr2, end=\" \")\n",
    "print(rem(arr2))\n",
    "\n",
    "# for this problem, yes—your Counter approach is wrong (for interviews/LeetCode) because:\n",
    "\n",
    "# It’s not in-place (you build a new list res and don’t write back into the original array).\n",
    "\n",
    "# It uses O(n) extra space (Counter + res), while the task requires O(1) extra space.\n",
    "\n",
    "# You don’t return k = number of unique elements, nor ensure arr[:k] holds the result.\n",
    "\n",
    "# If you just want uniques, your code “works”, but it doesn’t satisfy the required spec.\n",
    "\n",
    "# correct solution:\n",
    "\n",
    "def rem1(arr):\n",
    "    n = len(arr)\n",
    "    if n == 0:\n",
    "        return 0\n",
    "    k = 1\n",
    "    for i in range(1, n):\n",
    "        if arr[i] != arr[k-1]:\n",
    "            arr[k] = arr[i]\n",
    "            k +=1\n",
    "    return k\n",
    "arr1 = [1,1,2,2,2,3,3]\n",
    "arr2 = [1,1,1,2,2,3,3,3,3,4,4]\n",
    "print(arr1, end=\" \")\n",
    "print(arr1[:rem1(arr1)])\n",
    "print(arr2, end=\" \")\n",
    "print(arr2[:rem1(arr2)])"
   ]
  },
  {
   "cell_type": "markdown",
   "id": "d1f722ff",
   "metadata": {},
   "source": [
    "## Left Rotate the Array by One\n",
    "\n",
    "Problem Statement: Given an array of N integers, left rotate the array by one place.\n",
    "\n",
    "Example 1:\n",
    "Input: N = 5, array[] = {1,2,3,4,5}\n",
    "Output: 2,3,4,5,1\n",
    "Explanation: \n",
    "Since all the elements in array will be shifted \n",
    "toward left by one so ‘2’ will now become the \n",
    "first index and and ‘1’ which was present at \n",
    "first index will be shifted at last.\n",
    "\n",
    "\n",
    "Example 2:\n",
    "Input: N = 1, array[] = {3}\n",
    "Output: 3\n",
    "Explanation: Here only element is present and so \n",
    "the element at first index will be shifted to \n",
    "last index which is also by the way the first index."
   ]
  },
  {
   "cell_type": "code",
   "execution_count": 17,
   "id": "fc2c4a56",
   "metadata": {},
   "outputs": [
    {
     "name": "stdout",
     "output_type": "stream",
     "text": [
      "[1, 2, 3, 4, 5] [2, 1, 3, 4, 5]\n",
      "[2, 1, 5, 4, 3]\n",
      "[3, 4, 5, 1, 2]\n",
      "[3, 4, 5, 1, 2]\n",
      "\n",
      "[1, 2, 3, 4, 5, 6, 7, 8, 9, 10] [2, 1, 3, 4, 5, 6, 7, 8, 9, 10]\n",
      "[2, 1, 10, 9, 8, 7, 6, 5, 4, 3]\n",
      "[3, 4, 5, 6, 7, 8, 9, 10, 1, 2]\n",
      "[3, 4, 5, 6, 7, 8, 9, 10, 1, 2]\n"
     ]
    }
   ],
   "source": [
    "def left_rot(arr, k):\n",
    "    n = len(arr)\n",
    "    if n ==0:\n",
    "        return\n",
    "    k %= n\n",
    "    def rev(s, e):\n",
    "        while s < e:\n",
    "            arr[s], arr[e] = arr[e], arr[s]\n",
    "            s += 1\n",
    "            e -= 1\n",
    "    rev(0, k-1)\n",
    "    print(arr)\n",
    "    rev(k, n-1)\n",
    "    print(arr)\n",
    "    rev(0, n-1)\n",
    "    print(arr)\n",
    "    return arr\n",
    "\n",
    "arr1 = [1, 2, 3, 4, 5]\n",
    "k1 = 2\n",
    "print(arr1, end=\" \")\n",
    "print(left_rot(arr1, k1))\n",
    "print()\n",
    "arr2 = [1, 2, 3, 4, 5, 6, 7, 8, 9, 10]\n",
    "k2 = 2\n",
    "print(arr2, end=\" \")\n",
    "print(left_rot(arr2, k2))"
   ]
  },
  {
   "cell_type": "markdown",
   "id": "054e493b",
   "metadata": {},
   "source": [
    "## Move all Zeros to the end of the array\n",
    "\n",
    "In this article we will learn how to solve the most asked coding interview problem: \"Move all Zeros to the end of the array\"\n",
    "\n",
    "Problem Statement: You are given an array of integers, your task is to move all the zeros in the array to the end of the array and move non-negative integers to the front by maintaining their order.\n",
    "\n",
    "Examples\n",
    "\n",
    "Example 1:\n",
    "Input: 1 ,0 ,2 ,3 ,0 ,4 ,0 ,1\n",
    "Output: 1 ,2 ,3 ,4 ,1 ,0 ,0 ,0\n",
    "Explanation: All the zeros are moved to the end and non-negative integers are moved to front by maintaining order\n",
    "\n",
    "Example 2:\n",
    "Input: 1,2,0,1,0,4,0\n",
    "Output: 1,2,1,4,0,0,0\n",
    "Explanation: All the zeros are moved to the end and non-negative integers are moved to front by maintaining order\n"
   ]
  },
  {
   "cell_type": "code",
   "execution_count": 28,
   "id": "ef46bf9f",
   "metadata": {},
   "outputs": [
    {
     "name": "stdout",
     "output_type": "stream",
     "text": [
      "[1, 2, 3, 4, 1, 0, 0, 0]\n",
      "[1, 2, 1, 4, 0, 0, 0]\n",
      "OR\n",
      "[1, 2, 3, 4, 1, 0, 0, 0]\n",
      "[1, 2, 1, 4, 0, 0, 0]\n"
     ]
    }
   ],
   "source": [
    "# Demo\n",
    "def move_zeros(arr):\n",
    "    n = len(arr)\n",
    "    c =0 \n",
    "    if n == 0:\n",
    "        return\n",
    "    for i in range(n):\n",
    "        if arr[i] == 0:\n",
    "            c += 1\n",
    "        else:\n",
    "            arr[i-c] = arr[i]\n",
    "    arr[n-c:] = [0] * c\n",
    "    return arr \n",
    "\n",
    "a = [1,0,2,3,0,4,0,1]\n",
    "move_zeros(a)\n",
    "print(a)  # [1, 2, 3, 4, 1, 0, 0, 0]\n",
    "\n",
    "b = [1,2,0,1,0,4,0]\n",
    "move_zeros(b)\n",
    "print(b)\n",
    "\n",
    "\n",
    "# OR\n",
    "\n",
    "print(\"OR\")\n",
    "\n",
    "def move_zeros1(arr):\n",
    "    n = len(arr)\n",
    "    j = 0 \n",
    "    if n == 0:\n",
    "        return\n",
    "    for i in range(n):\n",
    "        if arr[i] != 0:\n",
    "            arr[j] = arr[i]\n",
    "            j += 1\n",
    "    arr[j:] = [0] * (n-j)\n",
    "    return arr \n",
    "\n",
    "a = [1,0,2,3,0,4,0,1]\n",
    "move_zeros1(a)\n",
    "print(a)  # [1, 2, 3, 4, 1, 0, 0, 0]\n",
    "\n",
    "b = [1,2,0,1,0,4,0]\n",
    "move_zeros1(b)\n",
    "print(b)"
   ]
  },
  {
   "cell_type": "markdown",
   "id": "109218c1",
   "metadata": {},
   "source": [
    "## Linear Search in C\n",
    "\n",
    "Problem Statement: Given an array, and an element num the task is to find if num is present in the given array or not. If present print the index of the element or print -1.\n",
    "\n",
    "Examples:\n",
    "\n",
    "Example 1:\n",
    "Input: arr[]= 1 2 3 4 5, num = 3\n",
    "Output: 2\n",
    "Explanation: 3 is present in the 2nd index\n",
    "\n",
    "Example 2:\n",
    "Input: arr[]= 5 4 3 2 1, num = 5\n",
    "Output: 0\n",
    "Explanation: 5 is present in the 0th index"
   ]
  },
  {
   "cell_type": "code",
   "execution_count": 29,
   "id": "addeb68c",
   "metadata": {},
   "outputs": [
    {
     "name": "stdout",
     "output_type": "stream",
     "text": [
      "index of  3 is 2\n"
     ]
    }
   ],
   "source": [
    "def linear_search(arr, x):\n",
    "    for i in range(len(arr)):\n",
    "        if arr[i] == x:\n",
    "            return i\n",
    "    return -1\n",
    "\n",
    "data = [1, 2, 3, 4, 5]\n",
    "x = 3\n",
    "print(\"index of \", x, \"is\", linear_search(data, x))  # Output: index of 3 is 2"
   ]
  },
  {
   "cell_type": "markdown",
   "id": "6f0e74e7",
   "metadata": {},
   "source": [
    "## Union of Two Sorted Arrays\n",
    "\n",
    "Problem Statement: Given two sorted arrays, arr1, and arr2 of size n and m. Find the union of two sorted arrays.\n",
    "\n",
    "The union of two arrays can be defined as the common and distinct elements in the two arrays.NOTE: Elements in the union should be in ascending order.\n",
    "\n",
    "Examples\n",
    "\n",
    "Example 1:\n",
    "Input:\n",
    "n = 5,m = 5.\n",
    "arr1[] = {1,2,3,4,5}  \n",
    "arr2[] = {2,3,4,4,5}\n",
    "Output:\n",
    " {1,2,3,4,5}\n",
    "\n",
    "Explanation: \n",
    "Common Elements in arr1 and arr2  are:  2,3,4,5\n",
    "Distnict Elements in arr1 are : 1\n",
    "Distnict Elemennts in arr2 are : No distinct elements.\n",
    "Union of arr1 and arr2 is {1,2,3,4,5} \n",
    "\n",
    "Example 2:\n",
    "Input:\n",
    "n = 10,m = 7.\n",
    "arr1[] = {1,2,3,4,5,6,7,8,9,10}\n",
    "arr2[] = {2,3,4,4,5,11,12}\n",
    "Output: {1,2,3,4,5,6,7,8,9,10,11,12}\n",
    "Explanation: \n",
    "Common Elements in arr1 and arr2  are:  2,3,4,5\n",
    "Distnict Elements in arr1 are : 1,6,7,8,9,10\n",
    "Distnict Elemennts in arr2 are : 11,12\n",
    "Union of arr1 and arr2 is {1,2,3,4,5,6,7,8,9,10,11,12} \n"
   ]
  },
  {
   "cell_type": "code",
   "execution_count": 42,
   "id": "3863eabe",
   "metadata": {},
   "outputs": [
    {
     "name": "stdout",
     "output_type": "stream",
     "text": [
      "True\n"
     ]
    }
   ],
   "source": [
    "print(4>=2)"
   ]
  },
  {
   "cell_type": "code",
   "execution_count": 43,
   "id": "47ac7678",
   "metadata": {},
   "outputs": [
    {
     "name": "stdout",
     "output_type": "stream",
     "text": [
      "[1, 2, 3, 4, 5]\n",
      "[1, 2, 3, 4, 5, 6, 7, 8, 9, 10, 11, 12]\n"
     ]
    }
   ],
   "source": [
    "def union_sorted(arr1, arr2):\n",
    "    out = []\n",
    "    i = j = 0\n",
    "    def push(x):\n",
    "        if not out or out[-1] != x:\n",
    "            out.append(x)\n",
    "\n",
    "    while i<(len(arr1)) and j < (len(arr2)):\n",
    "        if arr1[i] == arr2[j]:\n",
    "            push(arr1[i])\n",
    "            i += 1\n",
    "            j += 1\n",
    "        elif arr1[i]<arr2[j]:\n",
    "            push (arr1[i])\n",
    "            i+=1\n",
    "        else:\n",
    "            push (arr2[j])\n",
    "            j+=1\n",
    "    while i<(len(arr1)):\n",
    "        push(arr1[i])\n",
    "        i+=1\n",
    "    while j<(len(arr2)):\n",
    "        push (arr2[j])\n",
    "        j+=1\n",
    "\n",
    "    return out\n",
    "\n",
    "\n",
    "print(union_sorted([1,2,3,4,5], [2,3,4,4,5]))                 # [1,2,3,4,5]\n",
    "print(union_sorted([1,2,3,4,5,6,7,8,9,10], [2,3,4,4,5,11,12]))# [1,2,3,4,5,6,7,8,9,10,11,12]"
   ]
  },
  {
   "cell_type": "markdown",
   "id": "e5563cf2",
   "metadata": {},
   "source": [
    "## Find the missing number in an array\n",
    "\n",
    "Problem Statement: Given an integer N and an array of size N-1 containing N-1 numbers between 1 to N. Find the number(between 1 to N), that is not present in the given array.\n",
    "\n",
    "Examples\n",
    "\n",
    "Example 1:\n",
    "Input Format: N = 5, array[] = {1,2,4,5}\n",
    "Result: 3\n",
    "Explanation: In the given array, number 3 is missing. So, 3 is the answer.\n",
    "\n",
    "Example 2:\n",
    "Input Format: N = 3, array[] = {1,3}\n",
    "Result: 2\n",
    "Explanation: In the given array, number 2 is missing. So, 2 is the answer."
   ]
  },
  {
   "cell_type": "code",
   "execution_count": 50,
   "id": "10dd149a",
   "metadata": {},
   "outputs": [
    {
     "name": "stdout",
     "output_type": "stream",
     "text": [
      "2\n",
      "9\n",
      "2\n",
      "9\n"
     ]
    }
   ],
   "source": [
    "def miss(arr):\n",
    "\n",
    "    if len(arr) == 0:\n",
    "        return -1\n",
    "    i = 0\n",
    "    # Assuming arr is sorted and contains unique elements\n",
    "    while arr[i+1] - arr[i] == 1:\n",
    "        i +=1\n",
    "    return arr[i]+1\n",
    "    \n",
    "arr1 = [1, 3, 4, 5]\n",
    "arr2 = [6, 7, 8, 10]\n",
    "\n",
    "print(miss(arr1))\n",
    "print(miss(arr2))\n",
    "\n",
    "# Using XOR to find the missing number in a range from 1 to n\n",
    "def find_missing_xor(arr):\n",
    "    x = 0\n",
    "    for i in range(arr[0], (arr[0]+len(arr)+1)):\n",
    "        x ^= i\n",
    "    for num in arr:\n",
    "        x ^= num\n",
    "    return x\n",
    "\n",
    "    pass\n",
    "arr1 = [1, 3, 4, 5]\n",
    "arr2 = [6, 7, 8, 10, 11]\n",
    "\n",
    "print(find_missing_xor(arr1))\n",
    "print(find_missing_xor(arr2))"
   ]
  },
  {
   "cell_type": "markdown",
   "id": "1e624be0",
   "metadata": {},
   "source": [
    "## Count Maximum Consecutive One's in the array\n",
    "\n",
    "Problem Statement: Given an array that contains only 1 and 0 return the count of maximum consecutive ones in the array.\n",
    "\n",
    "Examples:\n",
    "\n",
    "Example 1:\n",
    "\n",
    "Input: prices = {1, 1, 0, 1, 1, 1}\n",
    "\n",
    "Output: 3\n",
    "\n",
    "Explanation: There are two consecutive 1’s and three consecutive 1’s in the array out of which maximum is 3.\n",
    "\n",
    "Input: prices = {1, 0, 1, 1, 0, 1} \n",
    "\n",
    "Output: 2\n",
    "\n",
    "Explanation: There are two consecutive 1's in the array. \n"
   ]
  },
  {
   "cell_type": "code",
   "execution_count": 52,
   "id": "0fec28d9",
   "metadata": {},
   "outputs": [
    {
     "name": "stdout",
     "output_type": "stream",
     "text": [
      "3\n",
      "3\n",
      "4\n"
     ]
    }
   ],
   "source": [
    "def maxone(arr):\n",
    "    l = 0\n",
    "    max_len = 0\n",
    "\n",
    "    for r, x in enumerate(arr):\n",
    "        if x == 0:\n",
    "            max_len = max(max_len, r-l)\n",
    "            l =r+1\n",
    "        max_len = max(max_len, r-l+1)\n",
    "    return max_len\n",
    "\n",
    "arr1 = [1, 0, 1, 1, 0, 1, 1, 1]\n",
    "arr2 = [0, 0, 1, 1, 1, 0, 1, 1, 0, 1, 1]\n",
    "arr3 = [1, 1, 1, 1]\n",
    "print(maxone(arr1))  \n",
    "print(maxone(arr2))\n",
    "print(maxone(arr3))"
   ]
  },
  {
   "cell_type": "markdown",
   "id": "9b6dfdfe",
   "metadata": {},
   "source": [
    "## Find the number that appears once, and the other numbers twice\n",
    "\n",
    "Problem Statement: Given a non-empty array of integers arr, every element appears twice except for one. Find that single one.\n",
    "\n",
    "Examples\n",
    "\n",
    "Example 1:\n",
    "Input Format: arr[] = {2,2,1}\n",
    "Result: 1\n",
    "Explanation: In this array, only the element 1 appear once and so it is the answer.\n",
    "\n",
    "Example 2:\n",
    "Input Format: arr[] = {4,1,2,1,2}\n",
    "Result: 4\n",
    "Explanation: In this array, only element 4 appear once and the other elements appear twice. So, 4 is the answer."
   ]
  },
  {
   "cell_type": "code",
   "execution_count": 57,
   "id": "2a7908ad",
   "metadata": {},
   "outputs": [
    {
     "name": "stdout",
     "output_type": "stream",
     "text": [
      "2\n",
      "4\n",
      "-1\n",
      "2\n",
      "4\n",
      "0\n"
     ]
    }
   ],
   "source": [
    "from collections import Counter\n",
    "def find(arr):\n",
    "\n",
    "    c = Counter(arr)\n",
    "\n",
    "    return next((key for key, value in c.items() if value == 1), -1)\n",
    "\n",
    "arr1 = [1, 0, 1, 1, 0, 1, 1, 1, 2]\n",
    "arr2 = [0, 0, 1, 1, 1, 0, 1, 1, 0, 1, 1, 4]\n",
    "arr3 = [1, 1, 1, 1]\n",
    "print(find(arr1))  \n",
    "print(find(arr2))\n",
    "print(find(arr3))\n",
    "\n",
    "# Using XOR method for TWICE:\n",
    "\n",
    "def find2(arr):\n",
    "\n",
    "    res = 0\n",
    "    for x in arr:\n",
    "        res ^= x\n",
    "    return res\n",
    "\n",
    "arr1 = [1, 0, 1, 1, 0, 1, 1, 1, 2]\n",
    "arr2 = [0, 0, 1, 1, 1, 0, 1, 1, 0, 1, 4]\n",
    "arr3 = [1, 1, 1, 1]\n",
    "print(find2(arr1))  \n",
    "print(find2(arr2))\n",
    "print(find2(arr3))"
   ]
  },
  {
   "cell_type": "markdown",
   "id": "4b540be0",
   "metadata": {},
   "source": [
    "## Longest Subarray with given Sum K(Positives)\n",
    "\n",
    "Problem Statement: Given an array and a sum k, we need to print the length of the longest subarray that sums to k.\n",
    "\n",
    "Examples\n",
    "\n",
    "Example 1:\n",
    "Input Format: N = 3, k = 5, array[] = {2,3,5}\n",
    "Result: 2\n",
    "Explanation: The longest subarray with sum 5 is {2, 3}. And its length is 2.\n",
    "\n",
    "Example 2:\n",
    "Input Format: N = 5, k = 10, array[] = {2,3,5,1,9}\n",
    "Result: 3\n",
    "Explanation: The longest subarray with sum 10 is {2, 3, 5}. And its length is 3.\n"
   ]
  },
  {
   "cell_type": "code",
   "execution_count": 62,
   "id": "0ccfe785",
   "metadata": {},
   "outputs": [
    {
     "name": "stdout",
     "output_type": "stream",
     "text": [
      "3\n",
      "3\n"
     ]
    }
   ],
   "source": [
    "def longest_subarray(arr, n):\n",
    "    l = 0\n",
    "    max_len = 0\n",
    "    sum = 0\n",
    "\n",
    "    for r, x in enumerate(arr):\n",
    "        sum += x\n",
    "        while sum > n and l <= r:\n",
    "            sum -= arr[l]\n",
    "            l += 1\n",
    "        max_len = max(max_len, r-l+1)\n",
    "    return max_len\n",
    "\n",
    "arr1 = [4, 5, 2, 2]\n",
    "sum1 = 9\n",
    "print(longest_subarray(arr1, sum1))  # Output: 3 (subarray [2, 3, 4] or [3, 4, 5])\n",
    "arr2 = [2,3,5,1,9]\n",
    "sum2 = 10\n",
    "print(longest_subarray(arr1, sum2)) "
   ]
  },
  {
   "cell_type": "markdown",
   "id": "10face68",
   "metadata": {},
   "source": [
    "## Longest Subarray with sum K | [Postives and Negatives]\n",
    "\n",
    "Problem Statement: Given an array and a sum k, we need to print the length of the longest subarray that sums to k.\n",
    "\n",
    "Examples\n",
    "\n",
    "Example 1:\n",
    "Input Format: N = 3, k = 5, array[] = {2,3,5}\n",
    "Result: 2\n",
    "Explanation: The longest subarray with sum 5 is {2, 3}. And its length is 2.\n",
    "\n",
    "Example 2:\n",
    "Input Format: N = 3, k = 1, array[] = {-1, 1, 1}\n",
    "Result: 3\n",
    "Explanation: The longest subarray with sum 1 is {-1, 1, 1}. And its length is 3."
   ]
  },
  {
   "cell_type": "code",
   "execution_count": 68,
   "id": "52e12b33",
   "metadata": {},
   "outputs": [
    {
     "name": "stdout",
     "output_type": "stream",
     "text": [
      "3\n",
      "3\n"
     ]
    }
   ],
   "source": [
    "def longest_subarray1(arr, k):\n",
    "    first = {0: -1}\n",
    "    max_len = 0\n",
    "    s = 0\n",
    "    best_range = (-1, -1)\n",
    "\n",
    "    for i, x in enumerate(arr):\n",
    "        s+=x\n",
    "        if (s-k) in first:\n",
    "            length = i - first[s-k]\n",
    "            if length>max_len:\n",
    "                max_len = length\n",
    "                best_range = (first[s-k]+1, i)\n",
    "        if s not in first:\n",
    "            first[s] = i\n",
    "    \n",
    "    return max_len, best_range\n",
    "\n",
    "arr1 = [4, 5, 2, 2]\n",
    "sum1 = 9\n",
    "print(longest_subarray(arr1, sum1))  # Output: 3 (subarray [2, 3, 4] or [3, 4, 5])\n",
    "arr2 = [-1, 1, 1]\n",
    "sum2 = 1\n",
    "print(longest_subarray(arr2, sum2)) "
   ]
  }
 ],
 "metadata": {
  "kernelspec": {
   "display_name": "Python 3",
   "language": "python",
   "name": "python3"
  },
  "language_info": {
   "codemirror_mode": {
    "name": "ipython",
    "version": 3
   },
   "file_extension": ".py",
   "mimetype": "text/x-python",
   "name": "python",
   "nbconvert_exporter": "python",
   "pygments_lexer": "ipython3",
   "version": "3.11.12"
  }
 },
 "nbformat": 4,
 "nbformat_minor": 5
}
